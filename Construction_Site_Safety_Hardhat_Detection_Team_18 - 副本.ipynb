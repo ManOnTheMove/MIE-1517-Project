{
 "cells": [
  {
   "cell_type": "markdown",
   "id": "bcf6c3f8",
   "metadata": {
    "id": "bcf6c3f8"
   },
   "source": [
    "# Construction Site Safety Hardhat Detection Progress Report  \n",
    "  \n",
    "**Team 18**  \n",
    "Member： Aiden Fallah, Manraj Shergill, Li Qi, Erich (Yue) YU"
   ]
  },
  {
   "cell_type": "markdown",
   "id": "1ebcb332",
   "metadata": {
    "id": "1ebcb332"
   },
   "source": [
    "## Introduction\n",
    "\n",
    "\n",
    "Ensuring the safety of workers on construction sites is paramount, with the proper use of Personal Protective Equipment (PPE) such as hardhats serving as a critical component in preventing workplace injuries and fatalities. However, manual monitoring of PPE compliance can be labor-intensive and prone to human error. To address this challenge, this project focuses on the development of an automated system for detecting whether workers are wearing appropriate PPE, specifically hardhats, using advanced computer vision techniques.\n",
    "\n",
    "Three different models were evaluated to achieve this objective: a fine tuned YOLO model, Faster R-CNN, and a standard CNN. Among these, the YOLOv8 model demonstrated superior performance in accurately identifying hardhats and in a much faster speed, followed by Faster R-CNN and CNN respectively. The comparative analysis highlights the effectiveness of real-time object detection algorithms in enhancing safety protocols on construction sites, paving the way for more reliable and efficient PPE compliance monitoring systems."
   ]
  },
  {
   "cell_type": "markdown",
   "id": "df22def4",
   "metadata": {},
   "source": [
    "## Dataset Introduction\n",
    "\n",
    "The [Construction Site Safety Image Dataset Roboflow](https://www.kaggle.com/datasets/snehilsanyal/construction-site-safety-image-dataset-roboflow/data) is a comprehensive and beginner-friendly collection designed to enhance worker safety monitoring on construction sites. Hosted on Roboflow, this dataset is formatted in YOLOv8, facilitating tasks such as multi-class classification, object detection, and tracking. It comprises 10 distinct classes, including various Personal Protective Equipment (PPE) categories like 'Hardhat', 'Mask', and 'Safety Vest', as well as non-compliance labels such as 'NO-Hardhat' and 'NO-Mask'. Additionally, it includes classes for 'Person', 'Safety Cone', 'machinery', and 'vehicle', which are crucial for contextual awareness in safety applications.\n"
   ]
  },
  {
   "cell_type": "markdown",
   "id": "3574c351",
   "metadata": {
    "id": "3574c351"
   },
   "source": [
    "#### Data Loading"
   ]
  },
  {
   "cell_type": "code",
   "execution_count": 6,
   "id": "8e9aedb3",
   "metadata": {
    "id": "8e9aedb3"
   },
   "outputs": [],
   "source": [
    "# import kaggle\n",
    "# kaggle.api.authenticate()\n",
    "# kaggle.api.dataset_download_files('snehilsanyal/construction-site-safety-image-dataset-roboflow', path='D:/Downloads/1517_dataset', unzip=True)\n",
    "\n",
    "# print(\"Dataset downloaded and extracted!\")"
   ]
  },
  {
   "cell_type": "code",
   "execution_count": null,
   "id": "9d11d238",
   "metadata": {},
   "outputs": [
    {
     "name": "stdout",
     "output_type": "stream",
     "text": [
      "Downloading from https://www.kaggle.com/api/v1/datasets/download/paultimothymooney/chest-xray-pneumonia?dataset_version_number=2...\n"
     ]
    },
    {
     "name": "stderr",
     "output_type": "stream",
     "text": [
      "100%|██████████| 2.29G/2.29G [00:39<00:00, 62.3MB/s]"
     ]
    },
    {
     "name": "stdout",
     "output_type": "stream",
     "text": [
      "Extracting files...\n"
     ]
    },
    {
     "name": "stderr",
     "output_type": "stream",
     "text": [
      "\n"
     ]
    },
    {
     "name": "stdout",
     "output_type": "stream",
     "text": [
      "Path to dataset files: C:\\Users\\Yu Yue\\.cache\\kagglehub\\datasets\\paultimothymooney\\chest-xray-pneumonia\\versions\\2\n"
     ]
    }
   ],
   "source": [
    "# import kagglehub\n",
    "\n",
    "# # Download latest version\n",
    "# path = kagglehub.dataset_download(\"paultimothymooney/chest-xray-pneumonia\")\n",
    "\n",
    "# print(\"Path to dataset files:\", path)"
   ]
  },
  {
   "cell_type": "code",
   "execution_count": 1,
   "id": "6c5d3115",
   "metadata": {},
   "outputs": [],
   "source": [
    "dataset_path = \"C:\\\\Users\\\\Yu Yue\\\\Desktop\\\\MIE1517_project\\\\datasets\\\\paultimothymooney\\\\chest-xray-pneumonia\\\\versions\\\\2\\\\chest_xray\" "
   ]
  },
  {
   "cell_type": "code",
   "execution_count": 18,
   "id": "2bc83e6d",
   "metadata": {},
   "outputs": [],
   "source": [
    "import torch\n",
    "import torch.nn as nn\n",
    "import torch.nn.functional as F\n",
    "\n",
    "class ConvAutoencoder(nn.Module):\n",
    "    def __init__(self):\n",
    "        super(ConvAutoencoder, self).__init__()\n",
    "        # Encoder\n",
    "        self.encoder = nn.Sequential(\n",
    "            nn.Conv2d(1, 32, 3, stride=2, padding=1),  # [batch, 32, 112, 112]\n",
    "            nn.ReLU(True),\n",
    "            nn.Conv2d(32, 64, 3, stride=2, padding=1), # [batch, 64, 56, 56]\n",
    "            nn.ReLU(True),\n",
    "            nn.Conv2d(64, 128, 3, stride=2, padding=1),# [batch, 128, 28, 28]\n",
    "            nn.ReLU(True),\n",
    "            nn.Conv2d(128, 256, 3, stride=2, padding=1),# [batch, 256, 14, 14]\n",
    "            nn.ReLU(True)\n",
    "        )\n",
    "        # Decoder\n",
    "        self.decoder = nn.Sequential(\n",
    "            nn.ConvTranspose2d(256, 128, 3, stride=2, padding=1, output_padding=1), # [batch, 128, 28, 28]\n",
    "            nn.ReLU(True),\n",
    "            nn.ConvTranspose2d(128, 64, 3, stride=2, padding=1, output_padding=1),  # [batch, 64, 56, 56]\n",
    "            nn.ReLU(True),\n",
    "            nn.ConvTranspose2d(64, 32, 3, stride=2, padding=1, output_padding=1),   # [batch, 32, 112, 112]\n",
    "            nn.ReLU(True),\n",
    "            nn.ConvTranspose2d(32, 1, 3, stride=2, padding=1, output_padding=1),    # [batch, 1, 224, 224]\n",
    "            nn.Sigmoid()  # To ensure output is between 0 and 1\n",
    "        )\n",
    "\n",
    "    def forward(self, x):\n",
    "        x = self.encoder(x)\n",
    "        x = self.decoder(x)\n",
    "        return x"
   ]
  },
  {
   "cell_type": "code",
   "execution_count": 20,
   "id": "7e39e462",
   "metadata": {},
   "outputs": [],
   "source": [
    "import os\n",
    "from torchvision import datasets, transforms\n",
    "from torch.utils.data import DataLoader, Subset\n",
    "import numpy as np\n",
    "\n",
    "# Define paths\n",
    "dataset_path = \"C:/Users/Yu Yue/Desktop/MIE1517_project/datasets/paultimothymooney/chest-xray-pneumonia/versions/2/chest_xray\"\n",
    "\n",
    "# Image transformations\n",
    "transform = transforms.Compose([\n",
    "    transforms.Grayscale(),  # Ensure images are grayscale\n",
    "    transforms.Resize((224, 224)),\n",
    "    transforms.ToTensor(),    # Convert to Tensor\n",
    "])\n",
    "\n",
    "# Load the training dataset (only Normal images)\n",
    "train_dataset = datasets.ImageFolder(os.path.join(dataset_path, 'train'), transform=transform)\n",
    "\n",
    "# Filter only Normal class (assuming class 0 is Normal)\n",
    "normal_class = 0  # Check with train_dataset.class_to_idx\n",
    "normal_indices = [i for i, (_, label) in enumerate(train_dataset) if label == normal_class]\n",
    "train_subset = Subset(train_dataset, normal_indices)\n",
    "\n",
    "# Validation and Test datasets\n",
    "val_dataset = datasets.ImageFolder(os.path.join(dataset_path, 'val'), transform=transform)\n",
    "test_dataset = datasets.ImageFolder(os.path.join(dataset_path, 'test'), transform=transform)\n",
    "\n",
    "# Data loaders\n",
    "batch_size = 32\n",
    "\n",
    "train_loader = DataLoader(train_subset, batch_size=batch_size, shuffle=True, num_workers=4, pin_memory=True)\n",
    "val_loader = DataLoader(val_dataset, batch_size=batch_size, shuffle=False, num_workers=4, pin_memory=True)\n",
    "test_loader = DataLoader(test_dataset, batch_size=batch_size, shuffle=False, num_workers=4, pin_memory=True)"
   ]
  },
  {
   "cell_type": "code",
   "execution_count": 21,
   "id": "9831a3b8",
   "metadata": {},
   "outputs": [
    {
     "name": "stderr",
     "output_type": "stream",
     "text": [
      "Epoch 1/50 - Training: 100%|██████████| 42/42 [00:14<00:00,  2.94it/s]\n",
      "Epoch 1/50 - Validation: 100%|██████████| 1/1 [00:03<00:00,  3.05s/it]\n"
     ]
    },
    {
     "name": "stdout",
     "output_type": "stream",
     "text": [
      "Epoch [1/50], Train Loss: 0.0286, Val Loss: 0.0049\n",
      "Model saved!\n"
     ]
    },
    {
     "name": "stderr",
     "output_type": "stream",
     "text": [
      "Epoch 2/50 - Training: 100%|██████████| 42/42 [00:14<00:00,  2.87it/s]\n",
      "Epoch 2/50 - Validation: 100%|██████████| 1/1 [00:03<00:00,  3.00s/it]\n"
     ]
    },
    {
     "name": "stdout",
     "output_type": "stream",
     "text": [
      "Epoch [2/50], Train Loss: 0.0051, Val Loss: 0.0026\n",
      "Model saved!\n"
     ]
    },
    {
     "name": "stderr",
     "output_type": "stream",
     "text": [
      "Epoch 3/50 - Training: 100%|██████████| 42/42 [00:15<00:00,  2.75it/s]\n",
      "Epoch 3/50 - Validation: 100%|██████████| 1/1 [00:02<00:00,  2.92s/it]\n"
     ]
    },
    {
     "name": "stdout",
     "output_type": "stream",
     "text": [
      "Epoch [3/50], Train Loss: 0.0037, Val Loss: 0.0022\n",
      "Model saved!\n"
     ]
    },
    {
     "name": "stderr",
     "output_type": "stream",
     "text": [
      "Epoch 4/50 - Training: 100%|██████████| 42/42 [00:14<00:00,  2.91it/s]\n",
      "Epoch 4/50 - Validation: 100%|██████████| 1/1 [00:02<00:00,  2.99s/it]\n"
     ]
    },
    {
     "name": "stdout",
     "output_type": "stream",
     "text": [
      "Epoch [4/50], Train Loss: 0.0034, Val Loss: 0.0019\n",
      "Model saved!\n"
     ]
    },
    {
     "name": "stderr",
     "output_type": "stream",
     "text": [
      "Epoch 5/50 - Training: 100%|██████████| 42/42 [00:14<00:00,  2.87it/s]\n",
      "Epoch 5/50 - Validation: 100%|██████████| 1/1 [00:02<00:00,  2.90s/it]\n"
     ]
    },
    {
     "name": "stdout",
     "output_type": "stream",
     "text": [
      "Epoch [5/50], Train Loss: 0.0028, Val Loss: 0.0017\n",
      "Model saved!\n"
     ]
    },
    {
     "name": "stderr",
     "output_type": "stream",
     "text": [
      "Epoch 6/50 - Training: 100%|██████████| 42/42 [00:14<00:00,  2.87it/s]\n",
      "Epoch 6/50 - Validation: 100%|██████████| 1/1 [00:02<00:00,  2.94s/it]\n"
     ]
    },
    {
     "name": "stdout",
     "output_type": "stream",
     "text": [
      "Epoch [6/50], Train Loss: 0.0027, Val Loss: 0.0016\n",
      "Model saved!\n"
     ]
    },
    {
     "name": "stderr",
     "output_type": "stream",
     "text": [
      "Epoch 7/50 - Training: 100%|██████████| 42/42 [00:14<00:00,  2.92it/s]\n",
      "Epoch 7/50 - Validation: 100%|██████████| 1/1 [00:02<00:00,  2.91s/it]\n"
     ]
    },
    {
     "name": "stdout",
     "output_type": "stream",
     "text": [
      "Epoch [7/50], Train Loss: 0.0027, Val Loss: 0.0016\n",
      "Model saved!\n"
     ]
    },
    {
     "name": "stderr",
     "output_type": "stream",
     "text": [
      "Epoch 8/50 - Training: 100%|██████████| 42/42 [00:14<00:00,  2.95it/s]\n",
      "Epoch 8/50 - Validation: 100%|██████████| 1/1 [00:02<00:00,  2.89s/it]\n"
     ]
    },
    {
     "name": "stdout",
     "output_type": "stream",
     "text": [
      "Epoch [8/50], Train Loss: 0.0023, Val Loss: 0.0015\n",
      "Model saved!\n"
     ]
    },
    {
     "name": "stderr",
     "output_type": "stream",
     "text": [
      "Epoch 9/50 - Training: 100%|██████████| 42/42 [00:14<00:00,  2.95it/s]\n",
      "Epoch 9/50 - Validation: 100%|██████████| 1/1 [00:02<00:00,  2.96s/it]\n"
     ]
    },
    {
     "name": "stdout",
     "output_type": "stream",
     "text": [
      "Epoch [9/50], Train Loss: 0.0021, Val Loss: 0.0013\n",
      "Model saved!\n"
     ]
    },
    {
     "name": "stderr",
     "output_type": "stream",
     "text": [
      "Epoch 10/50 - Training: 100%|██████████| 42/42 [00:14<00:00,  2.94it/s]\n",
      "Epoch 10/50 - Validation: 100%|██████████| 1/1 [00:02<00:00,  2.92s/it]\n"
     ]
    },
    {
     "name": "stdout",
     "output_type": "stream",
     "text": [
      "Epoch [10/50], Train Loss: 0.0020, Val Loss: 0.0012\n",
      "Model saved!\n"
     ]
    },
    {
     "name": "stderr",
     "output_type": "stream",
     "text": [
      "Epoch 11/50 - Training: 100%|██████████| 42/42 [00:14<00:00,  2.93it/s]\n",
      "Epoch 11/50 - Validation: 100%|██████████| 1/1 [00:02<00:00,  2.90s/it]\n"
     ]
    },
    {
     "name": "stdout",
     "output_type": "stream",
     "text": [
      "Epoch [11/50], Train Loss: 0.0018, Val Loss: 0.0012\n",
      "Model saved!\n"
     ]
    },
    {
     "name": "stderr",
     "output_type": "stream",
     "text": [
      "Epoch 12/50 - Training: 100%|██████████| 42/42 [00:14<00:00,  2.92it/s]\n",
      "Epoch 12/50 - Validation: 100%|██████████| 1/1 [00:02<00:00,  2.93s/it]\n"
     ]
    },
    {
     "name": "stdout",
     "output_type": "stream",
     "text": [
      "Epoch [12/50], Train Loss: 0.0023, Val Loss: 0.0014\n"
     ]
    },
    {
     "name": "stderr",
     "output_type": "stream",
     "text": [
      "Epoch 13/50 - Training: 100%|██████████| 42/42 [00:14<00:00,  2.87it/s]\n",
      "Epoch 13/50 - Validation: 100%|██████████| 1/1 [00:02<00:00,  2.98s/it]\n"
     ]
    },
    {
     "name": "stdout",
     "output_type": "stream",
     "text": [
      "Epoch [13/50], Train Loss: 0.0017, Val Loss: 0.0010\n",
      "Model saved!\n"
     ]
    },
    {
     "name": "stderr",
     "output_type": "stream",
     "text": [
      "Epoch 14/50 - Training: 100%|██████████| 42/42 [00:14<00:00,  2.84it/s]\n",
      "Epoch 14/50 - Validation: 100%|██████████| 1/1 [00:03<00:00,  3.04s/it]\n"
     ]
    },
    {
     "name": "stdout",
     "output_type": "stream",
     "text": [
      "Epoch [14/50], Train Loss: 0.0014, Val Loss: 0.0010\n",
      "Model saved!\n"
     ]
    },
    {
     "name": "stderr",
     "output_type": "stream",
     "text": [
      "Epoch 15/50 - Training: 100%|██████████| 42/42 [00:14<00:00,  2.95it/s]\n",
      "Epoch 15/50 - Validation: 100%|██████████| 1/1 [00:02<00:00,  2.99s/it]\n"
     ]
    },
    {
     "name": "stdout",
     "output_type": "stream",
     "text": [
      "Epoch [15/50], Train Loss: 0.0015, Val Loss: 0.0010\n",
      "Model saved!\n"
     ]
    },
    {
     "name": "stderr",
     "output_type": "stream",
     "text": [
      "Epoch 16/50 - Training: 100%|██████████| 42/42 [00:18<00:00,  2.30it/s]\n",
      "Epoch 16/50 - Validation: 100%|██████████| 1/1 [00:02<00:00,  2.93s/it]\n"
     ]
    },
    {
     "name": "stdout",
     "output_type": "stream",
     "text": [
      "Epoch [16/50], Train Loss: 0.0013, Val Loss: 0.0009\n",
      "Model saved!\n"
     ]
    },
    {
     "name": "stderr",
     "output_type": "stream",
     "text": [
      "Epoch 17/50 - Training: 100%|██████████| 42/42 [00:14<00:00,  2.90it/s]\n",
      "Epoch 17/50 - Validation: 100%|██████████| 1/1 [00:02<00:00,  2.97s/it]\n"
     ]
    },
    {
     "name": "stdout",
     "output_type": "stream",
     "text": [
      "Epoch [17/50], Train Loss: 0.0013, Val Loss: 0.0009\n",
      "Model saved!\n"
     ]
    },
    {
     "name": "stderr",
     "output_type": "stream",
     "text": [
      "Epoch 18/50 - Training: 100%|██████████| 42/42 [00:14<00:00,  2.91it/s]\n",
      "Epoch 18/50 - Validation: 100%|██████████| 1/1 [00:02<00:00,  2.93s/it]\n"
     ]
    },
    {
     "name": "stdout",
     "output_type": "stream",
     "text": [
      "Epoch [18/50], Train Loss: 0.0013, Val Loss: 0.0009\n",
      "Model saved!\n"
     ]
    },
    {
     "name": "stderr",
     "output_type": "stream",
     "text": [
      "Epoch 19/50 - Training: 100%|██████████| 42/42 [00:14<00:00,  2.93it/s]\n",
      "Epoch 19/50 - Validation: 100%|██████████| 1/1 [00:02<00:00,  2.90s/it]\n"
     ]
    },
    {
     "name": "stdout",
     "output_type": "stream",
     "text": [
      "Epoch [19/50], Train Loss: 0.0014, Val Loss: 0.0009\n",
      "Model saved!\n"
     ]
    },
    {
     "name": "stderr",
     "output_type": "stream",
     "text": [
      "Epoch 20/50 - Training: 100%|██████████| 42/42 [00:14<00:00,  2.96it/s]\n",
      "Epoch 20/50 - Validation: 100%|██████████| 1/1 [00:02<00:00,  2.90s/it]\n"
     ]
    },
    {
     "name": "stdout",
     "output_type": "stream",
     "text": [
      "Epoch [20/50], Train Loss: 0.0013, Val Loss: 0.0009\n",
      "Model saved!\n"
     ]
    },
    {
     "name": "stderr",
     "output_type": "stream",
     "text": [
      "Epoch 21/50 - Training: 100%|██████████| 42/42 [00:14<00:00,  2.95it/s]\n",
      "Epoch 21/50 - Validation: 100%|██████████| 1/1 [00:02<00:00,  2.92s/it]\n"
     ]
    },
    {
     "name": "stdout",
     "output_type": "stream",
     "text": [
      "Epoch [21/50], Train Loss: 0.0013, Val Loss: 0.0010\n"
     ]
    },
    {
     "name": "stderr",
     "output_type": "stream",
     "text": [
      "Epoch 22/50 - Training: 100%|██████████| 42/42 [00:14<00:00,  2.96it/s]\n",
      "Epoch 22/50 - Validation: 100%|██████████| 1/1 [00:02<00:00,  2.97s/it]\n"
     ]
    },
    {
     "name": "stdout",
     "output_type": "stream",
     "text": [
      "Epoch [22/50], Train Loss: 0.0012, Val Loss: 0.0008\n",
      "Model saved!\n"
     ]
    },
    {
     "name": "stderr",
     "output_type": "stream",
     "text": [
      "Epoch 23/50 - Training: 100%|██████████| 42/42 [00:14<00:00,  2.91it/s]\n",
      "Epoch 23/50 - Validation: 100%|██████████| 1/1 [00:03<00:00,  3.01s/it]\n"
     ]
    },
    {
     "name": "stdout",
     "output_type": "stream",
     "text": [
      "Epoch [23/50], Train Loss: 0.0012, Val Loss: 0.0008\n"
     ]
    },
    {
     "name": "stderr",
     "output_type": "stream",
     "text": [
      "Epoch 24/50 - Training: 100%|██████████| 42/42 [00:14<00:00,  2.89it/s]\n",
      "Epoch 24/50 - Validation: 100%|██████████| 1/1 [00:02<00:00,  2.95s/it]\n"
     ]
    },
    {
     "name": "stdout",
     "output_type": "stream",
     "text": [
      "Epoch [24/50], Train Loss: 0.0012, Val Loss: 0.0008\n",
      "Model saved!\n"
     ]
    },
    {
     "name": "stderr",
     "output_type": "stream",
     "text": [
      "Epoch 25/50 - Training: 100%|██████████| 42/42 [00:14<00:00,  2.95it/s]\n",
      "Epoch 25/50 - Validation: 100%|██████████| 1/1 [00:02<00:00,  2.92s/it]\n"
     ]
    },
    {
     "name": "stdout",
     "output_type": "stream",
     "text": [
      "Epoch [25/50], Train Loss: 0.0011, Val Loss: 0.0009\n"
     ]
    },
    {
     "name": "stderr",
     "output_type": "stream",
     "text": [
      "Epoch 26/50 - Training: 100%|██████████| 42/42 [00:14<00:00,  2.85it/s]\n",
      "Epoch 26/50 - Validation: 100%|██████████| 1/1 [00:03<00:00,  3.08s/it]\n"
     ]
    },
    {
     "name": "stdout",
     "output_type": "stream",
     "text": [
      "Epoch [26/50], Train Loss: 0.0011, Val Loss: 0.0009\n"
     ]
    },
    {
     "name": "stderr",
     "output_type": "stream",
     "text": [
      "Epoch 27/50 - Training: 100%|██████████| 42/42 [00:14<00:00,  2.85it/s]\n",
      "Epoch 27/50 - Validation: 100%|██████████| 1/1 [00:03<00:00,  3.16s/it]\n"
     ]
    },
    {
     "name": "stdout",
     "output_type": "stream",
     "text": [
      "Epoch [27/50], Train Loss: 0.0011, Val Loss: 0.0008\n",
      "Model saved!\n"
     ]
    },
    {
     "name": "stderr",
     "output_type": "stream",
     "text": [
      "Epoch 28/50 - Training: 100%|██████████| 42/42 [00:14<00:00,  2.90it/s]\n",
      "Epoch 28/50 - Validation: 100%|██████████| 1/1 [00:02<00:00,  2.92s/it]\n"
     ]
    },
    {
     "name": "stdout",
     "output_type": "stream",
     "text": [
      "Epoch [28/50], Train Loss: 0.0011, Val Loss: 0.0008\n",
      "Model saved!\n"
     ]
    },
    {
     "name": "stderr",
     "output_type": "stream",
     "text": [
      "Epoch 29/50 - Training: 100%|██████████| 42/42 [00:14<00:00,  2.92it/s]\n",
      "Epoch 29/50 - Validation: 100%|██████████| 1/1 [00:02<00:00,  2.96s/it]\n"
     ]
    },
    {
     "name": "stdout",
     "output_type": "stream",
     "text": [
      "Epoch [29/50], Train Loss: 0.0012, Val Loss: 0.0008\n"
     ]
    },
    {
     "name": "stderr",
     "output_type": "stream",
     "text": [
      "Epoch 30/50 - Training: 100%|██████████| 42/42 [00:14<00:00,  2.88it/s]\n",
      "Epoch 30/50 - Validation: 100%|██████████| 1/1 [00:02<00:00,  2.95s/it]\n"
     ]
    },
    {
     "name": "stdout",
     "output_type": "stream",
     "text": [
      "Epoch [30/50], Train Loss: 0.0011, Val Loss: 0.0008\n"
     ]
    },
    {
     "name": "stderr",
     "output_type": "stream",
     "text": [
      "Epoch 31/50 - Training: 100%|██████████| 42/42 [00:14<00:00,  2.92it/s]\n",
      "Epoch 31/50 - Validation: 100%|██████████| 1/1 [00:02<00:00,  2.92s/it]\n"
     ]
    },
    {
     "name": "stdout",
     "output_type": "stream",
     "text": [
      "Epoch [31/50], Train Loss: 0.0010, Val Loss: 0.0008\n",
      "Model saved!\n"
     ]
    },
    {
     "name": "stderr",
     "output_type": "stream",
     "text": [
      "Epoch 32/50 - Training: 100%|██████████| 42/42 [00:14<00:00,  2.89it/s]\n",
      "Epoch 32/50 - Validation: 100%|██████████| 1/1 [00:02<00:00,  2.92s/it]\n"
     ]
    },
    {
     "name": "stdout",
     "output_type": "stream",
     "text": [
      "Epoch [32/50], Train Loss: 0.0011, Val Loss: 0.0008\n",
      "Model saved!\n"
     ]
    },
    {
     "name": "stderr",
     "output_type": "stream",
     "text": [
      "Epoch 33/50 - Training: 100%|██████████| 42/42 [00:14<00:00,  2.91it/s]\n",
      "Epoch 33/50 - Validation: 100%|██████████| 1/1 [00:03<00:00,  3.01s/it]\n"
     ]
    },
    {
     "name": "stdout",
     "output_type": "stream",
     "text": [
      "Epoch [33/50], Train Loss: 0.0010, Val Loss: 0.0008\n",
      "Model saved!\n"
     ]
    },
    {
     "name": "stderr",
     "output_type": "stream",
     "text": [
      "Epoch 34/50 - Training: 100%|██████████| 42/42 [00:14<00:00,  2.90it/s]\n",
      "Epoch 34/50 - Validation: 100%|██████████| 1/1 [00:02<00:00,  2.95s/it]\n"
     ]
    },
    {
     "name": "stdout",
     "output_type": "stream",
     "text": [
      "Epoch [34/50], Train Loss: 0.0013, Val Loss: 0.0008\n"
     ]
    },
    {
     "name": "stderr",
     "output_type": "stream",
     "text": [
      "Epoch 35/50 - Training: 100%|██████████| 42/42 [00:14<00:00,  2.92it/s]\n",
      "Epoch 35/50 - Validation: 100%|██████████| 1/1 [00:02<00:00,  2.94s/it]\n"
     ]
    },
    {
     "name": "stdout",
     "output_type": "stream",
     "text": [
      "Epoch [35/50], Train Loss: 0.0010, Val Loss: 0.0008\n",
      "Model saved!\n"
     ]
    },
    {
     "name": "stderr",
     "output_type": "stream",
     "text": [
      "Epoch 36/50 - Training: 100%|██████████| 42/42 [00:14<00:00,  2.95it/s]\n",
      "Epoch 36/50 - Validation: 100%|██████████| 1/1 [00:02<00:00,  2.90s/it]\n"
     ]
    },
    {
     "name": "stdout",
     "output_type": "stream",
     "text": [
      "Epoch [36/50], Train Loss: 0.0011, Val Loss: 0.0008\n"
     ]
    },
    {
     "name": "stderr",
     "output_type": "stream",
     "text": [
      "Epoch 37/50 - Training: 100%|██████████| 42/42 [00:14<00:00,  2.91it/s]\n",
      "Epoch 37/50 - Validation: 100%|██████████| 1/1 [00:02<00:00,  2.96s/it]\n"
     ]
    },
    {
     "name": "stdout",
     "output_type": "stream",
     "text": [
      "Epoch [37/50], Train Loss: 0.0010, Val Loss: 0.0008\n"
     ]
    },
    {
     "name": "stderr",
     "output_type": "stream",
     "text": [
      "Epoch 38/50 - Training: 100%|██████████| 42/42 [00:14<00:00,  2.91it/s]\n",
      "Epoch 38/50 - Validation: 100%|██████████| 1/1 [00:02<00:00,  2.98s/it]\n"
     ]
    },
    {
     "name": "stdout",
     "output_type": "stream",
     "text": [
      "Epoch [38/50], Train Loss: 0.0011, Val Loss: 0.0009\n"
     ]
    },
    {
     "name": "stderr",
     "output_type": "stream",
     "text": [
      "Epoch 39/50 - Training: 100%|██████████| 42/42 [00:14<00:00,  2.93it/s]\n",
      "Epoch 39/50 - Validation: 100%|██████████| 1/1 [00:02<00:00,  3.00s/it]\n"
     ]
    },
    {
     "name": "stdout",
     "output_type": "stream",
     "text": [
      "Epoch [39/50], Train Loss: 0.0010, Val Loss: 0.0007\n",
      "Model saved!\n"
     ]
    },
    {
     "name": "stderr",
     "output_type": "stream",
     "text": [
      "Epoch 40/50 - Training: 100%|██████████| 42/42 [00:14<00:00,  2.95it/s]\n",
      "Epoch 40/50 - Validation: 100%|██████████| 1/1 [00:02<00:00,  2.90s/it]\n"
     ]
    },
    {
     "name": "stdout",
     "output_type": "stream",
     "text": [
      "Epoch [40/50], Train Loss: 0.0011, Val Loss: 0.0007\n"
     ]
    },
    {
     "name": "stderr",
     "output_type": "stream",
     "text": [
      "Epoch 41/50 - Training: 100%|██████████| 42/42 [00:14<00:00,  2.93it/s]\n",
      "Epoch 41/50 - Validation: 100%|██████████| 1/1 [00:02<00:00,  2.91s/it]\n"
     ]
    },
    {
     "name": "stdout",
     "output_type": "stream",
     "text": [
      "Epoch [41/50], Train Loss: 0.0010, Val Loss: 0.0008\n"
     ]
    },
    {
     "name": "stderr",
     "output_type": "stream",
     "text": [
      "Epoch 42/50 - Training: 100%|██████████| 42/42 [00:14<00:00,  2.90it/s]\n",
      "Epoch 42/50 - Validation: 100%|██████████| 1/1 [00:02<00:00,  2.94s/it]\n"
     ]
    },
    {
     "name": "stdout",
     "output_type": "stream",
     "text": [
      "Epoch [42/50], Train Loss: 0.0009, Val Loss: 0.0007\n",
      "Model saved!\n"
     ]
    },
    {
     "name": "stderr",
     "output_type": "stream",
     "text": [
      "Epoch 43/50 - Training: 100%|██████████| 42/42 [00:14<00:00,  2.92it/s]\n",
      "Epoch 43/50 - Validation: 100%|██████████| 1/1 [00:02<00:00,  2.93s/it]\n"
     ]
    },
    {
     "name": "stdout",
     "output_type": "stream",
     "text": [
      "Epoch [43/50], Train Loss: 0.0010, Val Loss: 0.0007\n"
     ]
    },
    {
     "name": "stderr",
     "output_type": "stream",
     "text": [
      "Epoch 44/50 - Training: 100%|██████████| 42/42 [00:14<00:00,  2.90it/s]\n",
      "Epoch 44/50 - Validation: 100%|██████████| 1/1 [00:02<00:00,  2.95s/it]\n"
     ]
    },
    {
     "name": "stdout",
     "output_type": "stream",
     "text": [
      "Epoch [44/50], Train Loss: 0.0009, Val Loss: 0.0007\n",
      "Model saved!\n"
     ]
    },
    {
     "name": "stderr",
     "output_type": "stream",
     "text": [
      "Epoch 45/50 - Training: 100%|██████████| 42/42 [00:14<00:00,  2.93it/s]\n",
      "Epoch 45/50 - Validation: 100%|██████████| 1/1 [00:02<00:00,  2.94s/it]\n"
     ]
    },
    {
     "name": "stdout",
     "output_type": "stream",
     "text": [
      "Epoch [45/50], Train Loss: 0.0010, Val Loss: 0.0007\n",
      "Model saved!\n"
     ]
    },
    {
     "name": "stderr",
     "output_type": "stream",
     "text": [
      "Epoch 46/50 - Training: 100%|██████████| 42/42 [00:14<00:00,  2.91it/s]\n",
      "Epoch 46/50 - Validation: 100%|██████████| 1/1 [00:02<00:00,  2.93s/it]\n"
     ]
    },
    {
     "name": "stdout",
     "output_type": "stream",
     "text": [
      "Epoch [46/50], Train Loss: 0.0009, Val Loss: 0.0007\n"
     ]
    },
    {
     "name": "stderr",
     "output_type": "stream",
     "text": [
      "Epoch 47/50 - Training: 100%|██████████| 42/42 [00:14<00:00,  2.92it/s]\n",
      "Epoch 47/50 - Validation: 100%|██████████| 1/1 [00:02<00:00,  2.93s/it]\n"
     ]
    },
    {
     "name": "stdout",
     "output_type": "stream",
     "text": [
      "Epoch [47/50], Train Loss: 0.0010, Val Loss: 0.0008\n"
     ]
    },
    {
     "name": "stderr",
     "output_type": "stream",
     "text": [
      "Epoch 48/50 - Training: 100%|██████████| 42/42 [00:14<00:00,  2.90it/s]\n",
      "Epoch 48/50 - Validation: 100%|██████████| 1/1 [00:02<00:00,  2.91s/it]\n"
     ]
    },
    {
     "name": "stdout",
     "output_type": "stream",
     "text": [
      "Epoch [48/50], Train Loss: 0.0009, Val Loss: 0.0009\n"
     ]
    },
    {
     "name": "stderr",
     "output_type": "stream",
     "text": [
      "Epoch 49/50 - Training: 100%|██████████| 42/42 [00:14<00:00,  2.91it/s]\n",
      "Epoch 49/50 - Validation: 100%|██████████| 1/1 [00:02<00:00,  2.91s/it]\n"
     ]
    },
    {
     "name": "stdout",
     "output_type": "stream",
     "text": [
      "Epoch [49/50], Train Loss: 0.0009, Val Loss: 0.0016\n"
     ]
    },
    {
     "name": "stderr",
     "output_type": "stream",
     "text": [
      "Epoch 50/50 - Training: 100%|██████████| 42/42 [00:14<00:00,  2.93it/s]\n",
      "Epoch 50/50 - Validation: 100%|██████████| 1/1 [00:02<00:00,  2.90s/it]"
     ]
    },
    {
     "name": "stdout",
     "output_type": "stream",
     "text": [
      "Epoch [50/50], Train Loss: 0.0010, Val Loss: 0.0007\n",
      "Model saved!\n"
     ]
    },
    {
     "name": "stderr",
     "output_type": "stream",
     "text": [
      "\n"
     ]
    }
   ],
   "source": [
    "import torch.optim as optim\n",
    "from tqdm import tqdm\n",
    "\n",
    "# Initialize the model, loss function, and optimizer\n",
    "device = torch.device(\"cuda\" if torch.cuda.is_available() else \"cpu\")\n",
    "model = ConvAutoencoder().to(device)\n",
    "criterion = nn.MSELoss()\n",
    "optimizer = optim.Adam(model.parameters(), lr=1e-3, weight_decay=1e-5)\n",
    "\n",
    "# Training parameters\n",
    "num_epochs = 50\n",
    "best_val_loss = np.inf\n",
    "\n",
    "for epoch in range(num_epochs):\n",
    "    model.train()\n",
    "    train_loss = 0\n",
    "    for data in tqdm(train_loader, desc=f\"Epoch {epoch+1}/{num_epochs} - Training\"):\n",
    "        img, _ = data\n",
    "        img = img.to(device)\n",
    "        \n",
    "        # Forward pass\n",
    "        output = model(img)\n",
    "        loss = criterion(output, img)\n",
    "        \n",
    "        # Backward pass and optimization\n",
    "        optimizer.zero_grad()\n",
    "        loss.backward()\n",
    "        optimizer.step()\n",
    "        \n",
    "        train_loss += loss.item() * img.size(0)\n",
    "    \n",
    "    train_loss /= len(train_loader.dataset)\n",
    "    \n",
    "    # Validation\n",
    "    model.eval()\n",
    "    val_loss = 0\n",
    "    with torch.no_grad():\n",
    "        for data in tqdm(val_loader, desc=f\"Epoch {epoch+1}/{num_epochs} - Validation\"):\n",
    "            img, _ = data\n",
    "            img = img.to(device)\n",
    "            output = model(img)\n",
    "            loss = criterion(output, img)\n",
    "            val_loss += loss.item() * img.size(0)\n",
    "    \n",
    "    val_loss /= len(val_loader.dataset)\n",
    "    \n",
    "    print(f\"Epoch [{epoch+1}/{num_epochs}], Train Loss: {train_loss:.4f}, Val Loss: {val_loss:.4f}\")\n",
    "    \n",
    "    # Save the best model\n",
    "    if val_loss < best_val_loss:\n",
    "        best_val_loss = val_loss\n",
    "        torch.save(model.state_dict(), 'best_autoencoder.pth')\n",
    "        print(\"Model saved!\")"
   ]
  },
  {
   "cell_type": "code",
   "execution_count": 22,
   "id": "7275b693",
   "metadata": {},
   "outputs": [
    {
     "name": "stderr",
     "output_type": "stream",
     "text": [
      "C:\\Users\\Yu Yue\\AppData\\Local\\Temp\\ipykernel_37116\\6902249.py:2: FutureWarning: You are using `torch.load` with `weights_only=False` (the current default value), which uses the default pickle module implicitly. It is possible to construct malicious pickle data which will execute arbitrary code during unpickling (See https://github.com/pytorch/pytorch/blob/main/SECURITY.md#untrusted-models for more details). In a future release, the default value for `weights_only` will be flipped to `True`. This limits the functions that could be executed during unpickling. Arbitrary objects will no longer be allowed to be loaded via this mode unless they are explicitly allowlisted by the user via `torch.serialization.add_safe_globals`. We recommend you start setting `weights_only=True` for any use case where you don't have full control of the loaded file. Please open an issue on GitHub for any issues related to this experimental feature.\n",
      "  model.load_state_dict(torch.load('best_autoencoder.pth'))\n"
     ]
    },
    {
     "data": {
      "text/plain": [
       "ConvAutoencoder(\n",
       "  (encoder): Sequential(\n",
       "    (0): Conv2d(1, 32, kernel_size=(3, 3), stride=(2, 2), padding=(1, 1))\n",
       "    (1): ReLU(inplace=True)\n",
       "    (2): Conv2d(32, 64, kernel_size=(3, 3), stride=(2, 2), padding=(1, 1))\n",
       "    (3): ReLU(inplace=True)\n",
       "    (4): Conv2d(64, 128, kernel_size=(3, 3), stride=(2, 2), padding=(1, 1))\n",
       "    (5): ReLU(inplace=True)\n",
       "    (6): Conv2d(128, 256, kernel_size=(3, 3), stride=(2, 2), padding=(1, 1))\n",
       "    (7): ReLU(inplace=True)\n",
       "  )\n",
       "  (decoder): Sequential(\n",
       "    (0): ConvTranspose2d(256, 128, kernel_size=(3, 3), stride=(2, 2), padding=(1, 1), output_padding=(1, 1))\n",
       "    (1): ReLU(inplace=True)\n",
       "    (2): ConvTranspose2d(128, 64, kernel_size=(3, 3), stride=(2, 2), padding=(1, 1), output_padding=(1, 1))\n",
       "    (3): ReLU(inplace=True)\n",
       "    (4): ConvTranspose2d(64, 32, kernel_size=(3, 3), stride=(2, 2), padding=(1, 1), output_padding=(1, 1))\n",
       "    (5): ReLU(inplace=True)\n",
       "    (6): ConvTranspose2d(32, 1, kernel_size=(3, 3), stride=(2, 2), padding=(1, 1), output_padding=(1, 1))\n",
       "    (7): Sigmoid()\n",
       "  )\n",
       ")"
      ]
     },
     "execution_count": 22,
     "metadata": {},
     "output_type": "execute_result"
    }
   ],
   "source": [
    "# Load the best model\n",
    "model.load_state_dict(torch.load('best_autoencoder.pth'))\n",
    "model.eval()"
   ]
  },
  {
   "cell_type": "code",
   "execution_count": 23,
   "id": "a748ecf7",
   "metadata": {},
   "outputs": [
    {
     "name": "stderr",
     "output_type": "stream",
     "text": [
      "Testing: 100%|██████████| 20/20 [00:10<00:00,  1.91it/s]\n"
     ]
    }
   ],
   "source": [
    "from sklearn.metrics import roc_auc_score, roc_curve\n",
    "import matplotlib.pyplot as plt\n",
    "\n",
    "reconstruction_errors = []\n",
    "labels = []\n",
    "\n",
    "with torch.no_grad():\n",
    "    for data in tqdm(test_loader, desc=\"Testing\"):\n",
    "        img, label = data\n",
    "        img = img.to(device)\n",
    "        output = model(img)\n",
    "        loss = F.mse_loss(output, img, reduction='none')\n",
    "        loss = loss.view(loss.size(0), -1).mean(dim=1)\n",
    "        reconstruction_errors.extend(loss.cpu().numpy())\n",
    "        labels.extend(label.cpu().numpy())\n",
    "\n",
    "reconstruction_errors = np.array(reconstruction_errors)\n",
    "labels = np.array(labels)"
   ]
  },
  {
   "cell_type": "code",
   "execution_count": 24,
   "id": "a46ddb94",
   "metadata": {},
   "outputs": [
    {
     "name": "stdout",
     "output_type": "stream",
     "text": [
      "ROC AUC: 0.3106\n"
     ]
    },
    {
     "data": {
      "image/png": "[encoded data removed]",
      "text/plain": [
       "<Figure size 800x600 with 1 Axes>"
      ]
     },
     "metadata": {},
     "output_type": "display_data"
    },
    {
     "name": "stdout",
     "output_type": "stream",
     "text": [
      "Optimal Threshold: 0.0019\n"
     ]
    }
   ],
   "source": [
    "# Compute ROC AUC\n",
    "auc = roc_auc_score(labels, reconstruction_errors)\n",
    "print(f\"ROC AUC: {auc:.4f}\")\n",
    "\n",
    "# Plot ROC Curve\n",
    "fpr, tpr, thresholds = roc_curve(labels, reconstruction_errors)\n",
    "plt.figure(figsize=(8,6))\n",
    "plt.plot(fpr, tpr, label=f'ROC Curve (AUC = {auc:.4f})')\n",
    "plt.plot([0,1], [0,1], 'k--')\n",
    "plt.xlabel('False Positive Rate')\n",
    "plt.ylabel('True Positive Rate')\n",
    "plt.title('ROC Curve for Anomaly Detection')\n",
    "plt.legend(loc='lower right')\n",
    "plt.show()\n",
    "\n",
    "# Select threshold (e.g., where TPR - FPR is maximum)\n",
    "optimal_idx = np.argmax(tpr - fpr)\n",
    "optimal_threshold = thresholds[optimal_idx]\n",
    "print(f\"Optimal Threshold: {optimal_threshold:.4f}\")"
   ]
  },
  {
   "cell_type": "code",
   "execution_count": 25,
   "id": "db6f08ac",
   "metadata": {},
   "outputs": [
    {
     "name": "stdout",
     "output_type": "stream",
     "text": [
      "Accuracy: 0.3750\n",
      "Precision: 0.0000\n",
      "Recall: 0.0000\n",
      "F1-Score: 0.0000\n"
     ]
    },
    {
     "name": "stderr",
     "output_type": "stream",
     "text": [
      "d:\\Environment\\Anaconda\\Lib\\site-packages\\sklearn\\metrics\\_classification.py:1509: UndefinedMetricWarning: Precision is ill-defined and being set to 0.0 due to no predicted samples. Use `zero_division` parameter to control this behavior.\n",
      "  _warn_prf(average, modifier, f\"{metric.capitalize()} is\", len(result))\n"
     ]
    }
   ],
   "source": [
    "from sklearn.metrics import accuracy_score, precision_score, recall_score, f1_score\n",
    "\n",
    "# Predict labels based on threshold\n",
    "preds = (reconstruction_errors > optimal_threshold).astype(int)  # 1: Anomaly (Pneumonia), 0: Normal\n",
    "\n",
    "# Compute metrics\n",
    "accuracy = accuracy_score(labels, preds)\n",
    "precision = precision_score(labels, preds)\n",
    "recall = recall_score(labels, preds)\n",
    "f1 = f1_score(labels, preds)\n",
    "\n",
    "print(f\"Accuracy: {accuracy:.4f}\")\n",
    "print(f\"Precision: {precision:.4f}\")\n",
    "print(f\"Recall: {recall:.4f}\")\n",
    "print(f\"F1-Score: {f1:.4f}\")"
   ]
  },
  {
   "cell_type": "code",
   "execution_count": 26,
   "id": "e0237bd6",
   "metadata": {},
   "outputs": [
    {
     "ename": "AttributeError",
     "evalue": "'_MultiProcessingDataLoaderIter' object has no attribute 'next'",
     "output_type": "error",
     "traceback": [
      "\u001b[1;31m---------------------------------------------------------------------------\u001b[0m",
      "\u001b[1;31mAttributeError\u001b[0m                            Traceback (most recent call last)",
      "Cell \u001b[1;32mIn[26], line 9\u001b[0m\n\u001b[0;32m      7\u001b[0m \u001b[38;5;66;03m# Get some test samples\u001b[39;00m\n\u001b[0;32m      8\u001b[0m dataiter \u001b[38;5;241m=\u001b[39m \u001b[38;5;28miter\u001b[39m(test_loader)\n\u001b[1;32m----> 9\u001b[0m images, labels \u001b[38;5;241m=\u001b[39m \u001b[43mdataiter\u001b[49m\u001b[38;5;241;43m.\u001b[39;49m\u001b[43mnext\u001b[49m()\n\u001b[0;32m     10\u001b[0m images \u001b[38;5;241m=\u001b[39m images\u001b[38;5;241m.\u001b[39mto(device)\n\u001b[0;32m     11\u001b[0m outputs \u001b[38;5;241m=\u001b[39m model(images)\n",
      "\u001b[1;31mAttributeError\u001b[0m: '_MultiProcessingDataLoaderIter' object has no attribute 'next'"
     ]
    }
   ],
   "source": [
    "def imshow(img, title):\n",
    "    npimg = img.numpy()\n",
    "    plt.imshow(np.transpose(npimg, (1, 2, 0)), cmap='gray')\n",
    "    plt.title(title)\n",
    "    plt.axis('off')\n",
    "\n",
    "# Get some test samples\n",
    "dataiter = iter(test_loader)\n",
    "images, labels = dataiter.next()\n",
    "images = images.to(device)\n",
    "outputs = model(images)\n",
    "\n",
    "# Move to CPU for visualization\n",
    "images = images.cpu()\n",
    "outputs = outputs.cpu()\n",
    "\n",
    "# Compute reconstruction error for each image\n",
    "errors = F.mse_loss(outputs, images, reduction='none').view(images.size(0), -1).mean(dim=1).numpy()\n",
    "\n",
    "# Display images with their reconstruction errors\n",
    "plt.figure(figsize=(12, 6))\n",
    "for idx in range(8):\n",
    "    plt.subplot(4, 4, 2*idx+1)\n",
    "    imshow(images[idx], title=f\"Original\\nLabel: {'Pneumonia' if labels[idx]==1 else 'Normal'}\")\n",
    "    plt.subplot(4, 4, 2*idx+2)\n",
    "    imshow(outputs[idx], title=f\"Reconstructed\\nError: {errors[idx]:.4f}\")\n",
    "plt.tight_layout()\n",
    "plt.show()"
   ]
  },
  {
   "cell_type": "code",
   "execution_count": null,
   "id": "6d8e2aa7",
   "metadata": {},
   "outputs": [],
   "source": []
  }
 ],
 "metadata": {
  "colab": {
   "provenance": []
  },
  "kernelspec": {
   "display_name": "base",
   "language": "python",
   "name": "python3"
  },
  "language_info": {
   "codemirror_mode": {
    "name": "ipython",
    "version": 3
   },
   "file_extension": ".py",
   "mimetype": "text/x-python",
   "name": "python",
   "nbconvert_exporter": "python",
   "pygments_lexer": "ipython3",
   "version": "3.12.3"
  }
 },
 "nbformat": 4,
 "nbformat_minor": 5
}
