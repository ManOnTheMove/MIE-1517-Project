{
 "cells": [
  {
   "cell_type": "code",
   "execution_count": 4,
   "metadata": {},
   "outputs": [],
   "source": [
    "import nbformat\n",
    "from nbformat.v4 import new_notebook, new_markdown_cell, new_code_cell\n",
    "import os"
   ]
  },
  {
   "cell_type": "code",
   "execution_count": 5,
   "metadata": {},
   "outputs": [],
   "source": [
    "# Directory where the notebooks are located\n",
    "notebook_dir = r\"C:/Users/Yu Yue/Desktop/MIE1517_project\"\n",
    "\n",
    "# List of notebook filenames to merge\n",
    "notebook_files = [\n",
    "    \"Construction_Site_Safety_Hardhat_Detection_Team_18.ipynb\",\n",
    "    \"Faster_R_CNN.ipynb\",\n",
    "    \"CNN_Model.ipynb\"\n",
    "]\n",
    "\n",
    "# Full paths to the notebooks\n",
    "notebook_paths = [os.path.join(notebook_dir, fname) for fname in notebook_files]"
   ]
  },
  {
   "cell_type": "code",
   "execution_count": 6,
   "metadata": {},
   "outputs": [],
   "source": [
    "# Create a new notebook\n",
    "merged_nb = new_notebook()\n",
    "\n",
    "# Optionally, add a title or introductory markdown cell\n",
    "intro = new_markdown_cell(\"# Merged Notebook\\n\\nThis notebook combines multiple models and techniques.\")\n",
    "merged_nb.cells.append(intro)\n",
    "\n",
    "for path in notebook_paths:\n",
    "    # Read the current notebook\n",
    "    with open(path, 'r', encoding='utf-8') as f:\n",
    "        nb = nbformat.read(f, as_version=4)\n",
    "    \n",
    "    # Optionally, add a markdown cell indicating the start of a new notebook\n",
    "    notebook_title = os.path.basename(path).replace('.ipynb', '')\n",
    "    title_md = new_markdown_cell(f\"## {notebook_title}\\n\")\n",
    "    merged_nb.cells.append(title_md)\n",
    "    \n",
    "    # Append all cells from the current notebook\n",
    "    merged_nb.cells.extend(nb.cells)"
   ]
  },
  {
   "cell_type": "code",
   "execution_count": 7,
   "metadata": {},
   "outputs": [
    {
     "name": "stderr",
     "output_type": "stream",
     "text": [
      "d:\\Environment\\Anaconda\\Lib\\site-packages\\nbformat\\__init__.py:129: MissingIDFieldWarning: Code cell is missing an id field, this will become a hard error in future nbformat versions. You may want to use `normalize()` on your notebooks before validations (available since nbformat 5.1.4). Previous versions of nbformat are fixing this issue transparently, and will stop doing so in the future.\n",
      "  validate(nb)\n"
     ]
    },
    {
     "name": "stdout",
     "output_type": "stream",
     "text": [
      "Merged notebook saved to C:/Users/Yu Yue/Desktop/MIE1517_project\\Merged_Notebook.ipynb\n"
     ]
    }
   ],
   "source": [
    "# Path for the merged notebook\n",
    "merged_notebook_path = os.path.join(notebook_dir, \"Merged_Notebook.ipynb\")\n",
    "\n",
    "# Write the merged notebook to disk\n",
    "with open(merged_notebook_path, 'w', encoding='utf-8') as f:\n",
    "    nbformat.write(merged_nb, f)\n",
    "\n",
    "print(f\"Merged notebook saved to {merged_notebook_path}\")\n"
   ]
  },
  {
   "cell_type": "code",
   "execution_count": null,
   "metadata": {},
   "outputs": [],
   "source": []
  }
 ],
 "metadata": {
  "kernelspec": {
   "display_name": "base",
   "language": "python",
   "name": "python3"
  },
  "language_info": {
   "codemirror_mode": {
    "name": "ipython",
    "version": 3
   },
   "file_extension": ".py",
   "mimetype": "text/x-python",
   "name": "python",
   "nbconvert_exporter": "python",
   "pygments_lexer": "ipython3",
   "version": "3.12.3"
  }
 },
 "nbformat": 4,
 "nbformat_minor": 2
}
